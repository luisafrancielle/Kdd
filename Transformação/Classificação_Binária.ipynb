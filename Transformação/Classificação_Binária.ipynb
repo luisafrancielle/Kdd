{
  "nbformat": 4,
  "nbformat_minor": 0,
  "metadata": {
    "colab": {
      "provenance": []
    },
    "kernelspec": {
      "name": "python3",
      "display_name": "Python 3"
    },
    "language_info": {
      "name": "python"
    }
  },
  "cells": [
    {
      "cell_type": "code",
      "execution_count": null,
      "metadata": {
        "id": "B2hzvlFbbADh"
      },
      "outputs": [],
      "source": [
        "import pandas as pd"
      ]
    },
    {
      "cell_type": "code",
      "source": [
        "df = '11.xlsx'\n",
        "dados_excel = pd.read_excel(df)"
      ],
      "metadata": {
        "id": "FPI90e8CbMpl"
      },
      "execution_count": null,
      "outputs": []
    },
    {
      "cell_type": "code",
      "source": [
        "print(dados_excel.head())"
      ],
      "metadata": {
        "id": "anguJKT8c3AB"
      },
      "execution_count": null,
      "outputs": []
    },
    {
      "cell_type": "code",
      "source": [
        "coluna = dados_excel['DS_STATUS_ITEM']\n",
        "print(coluna)"
      ],
      "metadata": {
        "id": "AXC1JaXFddh3"
      },
      "execution_count": null,
      "outputs": []
    },
    {
      "cell_type": "code",
      "source": [
        "#Transforma Negado em 0 e Autorizado em 1:\n",
        "def transforma_status_item(valor):\n",
        "    if valor == 'negado':\n",
        "        return 0\n",
        "    elif valor == 'autorizado':\n",
        "        return 1\n",
        "    else:\n",
        "        return valor\n",
        "\n",
        "dados_excel['DS_STATUS_ITEM'] = dados_excel['DS_STATUS_ITEM'].apply(transforma_status_item)"
      ],
      "metadata": {
        "id": "ATXlixAOKV92"
      },
      "execution_count": null,
      "outputs": []
    },
    {
      "cell_type": "code",
      "source": [
        "coluna = dados_excel['DS_STATUS_ITEM']\n",
        "print(coluna)"
      ],
      "metadata": {
        "id": "FDt-_aXwdmBs"
      },
      "execution_count": null,
      "outputs": []
    },
    {
      "cell_type": "code",
      "source": [
        "coluna = dados_excel['DS_TIPO_ITEM']\n",
        "print(coluna)"
      ],
      "metadata": {
        "id": "iaYhclzadmpy"
      },
      "execution_count": null,
      "outputs": []
    },
    {
      "cell_type": "code",
      "source": [
        "#Transforma Procedimentos em 1 e MAT/MED em 0:\n",
        "\n",
        "def transforma_status_item(valor):\n",
        "    if valor == 'procedimentos':\n",
        "        return 1\n",
        "    elif valor == 'mat/med':\n",
        "        return 0\n",
        "    else:\n",
        "        return valor\n",
        "\n",
        "dados_excel['DS_TIPO_ITEM'] = dados_excel['DS_TIPO_ITEM'].apply(transforma_status_item)"
      ],
      "metadata": {
        "id": "fjJpiM5Fdomo"
      },
      "execution_count": null,
      "outputs": []
    },
    {
      "cell_type": "code",
      "source": [
        "coluna = dados_excel['DS_TIPO_ITEM']\n",
        "print(coluna)"
      ],
      "metadata": {
        "id": "mWrY6sr9drkS"
      },
      "execution_count": null,
      "outputs": []
    },
    {
      "cell_type": "code",
      "source": [
        "coluna = dados_excel['DS_ITEM']\n",
        "print(coluna)"
      ],
      "metadata": {
        "id": "meOxQI7veAvV"
      },
      "execution_count": null,
      "outputs": []
    },
    {
      "cell_type": "code",
      "source": [
        "dados_excel.to_excel('12.xlsx', index=False)"
      ],
      "metadata": {
        "id": "i90rJV8FdvVx"
      },
      "execution_count": null,
      "outputs": []
    }
  ]
}
